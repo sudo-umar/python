{
 "cells": [
  {
   "cell_type": "code",
   "execution_count": 2,
   "metadata": {},
   "outputs": [],
   "source": [
    "import numpy as np\n",
    "import re"
   ]
  },
  {
   "cell_type": "markdown",
   "metadata": {},
   "source": [
    "### Q1. Find ELF carrying the maximum calories. Each elf calories is separated by a blank line in text file"
   ]
  },
  {
   "cell_type": "code",
   "execution_count": 4,
   "metadata": {},
   "outputs": [
    {
     "name": "stdout",
     "output_type": "stream",
     "text": [
      "75501\n"
     ]
    }
   ],
   "source": [
    "file  = \"./input.txt\"\n",
    "\n",
    "with open(file, \"r\") as f:\n",
    "    content = f.read()\n",
    "x = []\n",
    "contents = re.split('[\\n]', content)\n",
    "acc = 0\n",
    "for value in contents:\n",
    "    if value !='':\n",
    "        acc += int(value)\n",
    "    else:\n",
    "        x.append(acc)\n",
    "        acc = 0\n",
    "print(max(x))"
   ]
  },
  {
   "cell_type": "markdown",
   "metadata": {},
   "source": [
    "### Q2. Find the top three Elves carrying the most Calories. How many Calories are those Elves carrying in total?\n"
   ]
  },
  {
   "cell_type": "code",
   "execution_count": 7,
   "metadata": {},
   "outputs": [
    {
     "name": "stdout",
     "output_type": "stream",
     "text": [
      "215594\n"
     ]
    }
   ],
   "source": [
    "sorted_calories = sorted(x)\n",
    "total_cal = 0\n",
    "for i in range(3):\n",
    "    total_cal += sorted_calories.pop()\n",
    "print(total_cal)"
   ]
  },
  {
   "cell_type": "code",
   "execution_count": null,
   "metadata": {},
   "outputs": [],
   "source": []
  },
  {
   "cell_type": "code",
   "execution_count": null,
   "metadata": {},
   "outputs": [],
   "source": []
  }
 ],
 "metadata": {
  "interpreter": {
   "hash": "c1beca4d13f83ca89c66bd45495ae156699bc5ff6f8c7e501c023379b2af8736"
  },
  "kernelspec": {
   "display_name": "Python 3.9.12 ('base')",
   "language": "python",
   "name": "python3"
  },
  "language_info": {
   "codemirror_mode": {
    "name": "ipython",
    "version": 3
   },
   "file_extension": ".py",
   "mimetype": "text/x-python",
   "name": "python",
   "nbconvert_exporter": "python",
   "pygments_lexer": "ipython3",
   "version": "3.9.12"
  },
  "orig_nbformat": 4
 },
 "nbformat": 4,
 "nbformat_minor": 2
}
