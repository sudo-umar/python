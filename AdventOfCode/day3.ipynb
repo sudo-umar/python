{
 "cells": [
  {
   "cell_type": "markdown",
   "metadata": {},
   "source": [
    "### Rucksack Reorganization"
   ]
  },
  {
   "cell_type": "code",
   "execution_count": 56,
   "metadata": {},
   "outputs": [],
   "source": [
    "import re"
   ]
  },
  {
   "cell_type": "markdown",
   "metadata": {},
   "source": [
    "<span style=\"color: lightyellow;font-size: 0.875em; font-family: monospace\">Part 1: Two compartments of a bag cannot carry one same type of item. So identify an item in both compartments and sum up their prioritize</span>\n"
   ]
  },
  {
   "cell_type": "code",
   "execution_count": 57,
   "metadata": {},
   "outputs": [],
   "source": [
    "with open('./day3.txt', 'r') as f:\n",
    "    data = f.readlines()"
   ]
  },
  {
   "cell_type": "code",
   "execution_count": 58,
   "metadata": {},
   "outputs": [],
   "source": [
    "data_stripped = []\n",
    "for i in data:\n",
    "    data_stripped.append(i.rstrip())"
   ]
  },
  {
   "cell_type": "code",
   "execution_count": 68,
   "metadata": {},
   "outputs": [],
   "source": [
    "    \"\"\"Ascii of capital 'A' is 65 and small 'a' is 97  \n",
    "But our priority is staring for small 'a' from 1 and capital 'A from 27\n",
    "    \"\"\"\n",
    "diff_capital_letters = 38\n",
    "diff_small_letter = 96"
   ]
  },
  {
   "cell_type": "code",
   "execution_count": 60,
   "metadata": {},
   "outputs": [],
   "source": [
    "sum_priority = 0\n",
    "\n",
    "for rapsack in data_stripped:\n",
    "   \n",
    "    arr = list(rapsack)\n",
    "    len_rapsack = len(arr)\n",
    "    first_compartment = len_rapsack/2\n",
    "    dict_compartment = dict()\n",
    "    for i in range(len(arr)):\n",
    "        \n",
    "        if i < first_compartment:\n",
    "            if arr[i] in dict_compartment:\n",
    "                dict_compartment[arr[i]] +=1\n",
    "            else:\n",
    "                dict_compartment[arr[i]] = 1\n",
    "        else:\n",
    "             if arr[i] in dict_compartment: #It is is first compartment as well\n",
    "             \n",
    "                if arr[i].isupper():\n",
    "                    value = ord(arr[i]) - diff_capital_letters\n",
    "                    sum_priority += value\n",
    "                    break\n",
    "                else:\n",
    "                    value = ord(arr[i]) - diff_small_letter\n",
    "                    sum_priority += value\n",
    "                    break"
   ]
  },
  {
   "cell_type": "code",
   "execution_count": 61,
   "metadata": {},
   "outputs": [
    {
     "data": {
      "text/plain": [
       "7553"
      ]
     },
     "execution_count": 61,
     "metadata": {},
     "output_type": "execute_result"
    }
   ],
   "source": [
    "sum_priority"
   ]
  },
  {
   "cell_type": "markdown",
   "metadata": {},
   "source": [
    "\n",
    "<span style=\"color: lightyellow;font-size:0.875em;font-family:monospace\">Part 2: Each group of elf is represented by 3 consecutive lines. Find matching item type in all 3 which represents their badge. Sum up the prioritize of each matching item(badge) accross all groups</span>"
   ]
  },
  {
   "cell_type": "code",
   "execution_count": 66,
   "metadata": {},
   "outputs": [],
   "source": [
    "def findBadge(filename: str) -> int:\n",
    "    \n",
    "    with open(filename, 'r') as f:\n",
    "        data = f.readlines()\n",
    "    i=0\n",
    "    idx = 0\n",
    "    prioritize = dict()\n",
    "    while(i<len(data)):\n",
    "        first = set(data[i].rstrip())\n",
    "        second = set(data[i+1].rstrip())\n",
    "        third = set(data[i+2].rstrip())\n",
    "        \n",
    "        common = first&second&third\n",
    "        common = common.pop()\n",
    "        prioritize[idx] = common\n",
    "        i = i + 3\n",
    "        idx = idx + 1\n",
    "   \n",
    "    sum_priority = 0\n",
    "    for idx, value in prioritize.items():\n",
    "        if value.isupper():\n",
    "            value = ord(value) - diff_capital_letters\n",
    "            sum_priority +=value\n",
    "        else:\n",
    "            value = ord(value) - diff_small_letter\n",
    "            sum_priority +=value\n",
    "   \n",
    "    return sum_priority"
   ]
  },
  {
   "cell_type": "code",
   "execution_count": 67,
   "metadata": {},
   "outputs": [
    {
     "data": {
      "text/plain": [
       "2758"
      ]
     },
     "execution_count": 67,
     "metadata": {},
     "output_type": "execute_result"
    }
   ],
   "source": [
    "sum_of_prioritize = findBadge('day3.txt')\n",
    "data"
   ]
  },
  {
   "cell_type": "code",
   "execution_count": null,
   "metadata": {},
   "outputs": [],
   "source": []
  }
 ],
 "metadata": {
  "interpreter": {
   "hash": "c1beca4d13f83ca89c66bd45495ae156699bc5ff6f8c7e501c023379b2af8736"
  },
  "kernelspec": {
   "display_name": "Python 3.9.12 ('base')",
   "language": "python",
   "name": "python3"
  },
  "language_info": {
   "codemirror_mode": {
    "name": "ipython",
    "version": 3
   },
   "file_extension": ".py",
   "mimetype": "text/x-python",
   "name": "python",
   "nbconvert_exporter": "python",
   "pygments_lexer": "ipython3",
   "version": "3.9.12"
  },
  "orig_nbformat": 4
 },
 "nbformat": 4,
 "nbformat_minor": 2
}
