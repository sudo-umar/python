{
 "cells": [
  {
   "cell_type": "code",
   "execution_count": 77,
   "metadata": {},
   "outputs": [],
   "source": [
    "import re"
   ]
  },
  {
   "cell_type": "code",
   "execution_count": 78,
   "metadata": {},
   "outputs": [],
   "source": [
    "opp_dict = {\"A\":\"Rock\", \"B\":\"Paper\", \"C\":\"Scissors\"}\n",
    "player_dict = {\"X\":[\"Rock\", 1], \"Y\":[\"Paper\", 2], \"Z\":[\"Scissors\",3]}\n"
   ]
  },
  {
   "cell_type": "markdown",
   "metadata": {},
   "source": [
    "### Q. Final Score of your rock paper scissor game after multiple rounds given the guide in txt file"
   ]
  },
  {
   "cell_type": "code",
   "execution_count": 79,
   "metadata": {},
   "outputs": [
    {
     "name": "stdout",
     "output_type": "stream",
     "text": [
      "10404\n"
     ]
    }
   ],
   "source": [
    "with open(\"./rpscissor.txt\",\"r\") as f:\n",
    "    content = f.read()\n",
    "contents = re.split(\"[\\n]\", content)\n",
    "#print(contents[0].split(' '))\n",
    "total_score = 0\n",
    "for pair in contents:\n",
    "    win = 0\n",
    "    if player_dict[pair[2]][0] == opp_dict[pair[0]]: #draw\n",
    "        win = 3\n",
    "        total_score = total_score + win + player_dict[pair[2]][1]\n",
    "        continue\n",
    "\n",
    "    if player_dict[pair[2]][0] == 'Rock' and opp_dict[pair[0]]=='Scissors':\n",
    "        win = 6\n",
    "        total_score = total_score + win + player_dict[pair[2]][1]\n",
    "        continue\n",
    "    if player_dict[pair[2]][0] == 'Scissors' and opp_dict[pair[0]]=='Paper':\n",
    "        win = 6\n",
    "        total_score = total_score + win + player_dict[pair[2]][1]\n",
    "        continue\n",
    "    if player_dict[pair[2]][0] == 'Paper' and opp_dict[pair[0]]=='Rock':\n",
    "        win = 6\n",
    "        total_score = total_score + win + player_dict[pair[2]][1]\n",
    "        continue\n",
    "    win = 0\n",
    "    total_score = total_score + win + player_dict[pair[2]][1]\n",
    "    \n",
    "print(total_score)\n",
    "    \n",
    "    "
   ]
  },
  {
   "cell_type": "code",
   "execution_count": 81,
   "metadata": {},
   "outputs": [
    {
     "name": "stdout",
     "output_type": "stream",
     "text": [
      "10334\n"
     ]
    }
   ],
   "source": [
    "win_situations = {\"Rock\":\"Scissors\",\"Scissors\":\"Paper\", \"Paper\":\"Rock\"}\n",
    "reverse = {'Scissors': 'Rock', 'Paper': 'Scissors', 'Rock': 'Paper'}\n",
    "player_dict = {\"X\":\"lose\", \"Y\":\"draw\", \"Z\":\"win\"}\n",
    "scores = {\"Rock\":1,\"Paper\":2, \"Scissors\":3}\n",
    "total_score = 0\n",
    "\n",
    "for pair in contents:\n",
    "    win = 0\n",
    "    if player_dict[pair[2]] == 'lose':\n",
    "        win = 0\n",
    "        move = opp_dict[pair[0]]\n",
    "        \n",
    "        score_for_move = scores[win_situations[move]]\n",
    "        total_score = total_score + win + score_for_move\n",
    "        \n",
    "    if  player_dict[pair[2]] == 'draw':\n",
    "        win = 3\n",
    "        key = opp_dict[pair[0]]\n",
    "        score_for_move = scores[key]\n",
    "        total_score = total_score + win + score_for_move\n",
    "    if player_dict[pair[2]] =='win':\n",
    "        win = 6\n",
    "        move = opp_dict[pair[0]]\n",
    "        score_for_move = scores[reverse[move]]\n",
    "        total_score = total_score + win + score_for_move\n",
    "print(total_score)\n",
    "\n",
    "\n",
    "\n",
    "        "
   ]
  },
  {
   "cell_type": "code",
   "execution_count": 70,
   "metadata": {},
   "outputs": [],
   "source": [
    "win_situations = {\"Rock\":\"Scissors\",\"Scissors\":\"Paper\", \"Paper\":\"Rock\"}\n"
   ]
  },
  {
   "cell_type": "code",
   "execution_count": 34,
   "metadata": {},
   "outputs": [],
   "source": [
    "reverse_win = {v:k for k,v in win_situations.items()} "
   ]
  },
  {
   "cell_type": "code",
   "execution_count": 35,
   "metadata": {},
   "outputs": [
    {
     "data": {
      "text/plain": [
       "{'Scissors': 'Rock', 'Paper': 'Scissors', 'Rock': 'Paper'}"
      ]
     },
     "execution_count": 35,
     "metadata": {},
     "output_type": "execute_result"
    }
   ],
   "source": [
    "reverse_win"
   ]
  },
  {
   "cell_type": "code",
   "execution_count": null,
   "metadata": {},
   "outputs": [],
   "source": []
  }
 ],
 "metadata": {
  "interpreter": {
   "hash": "c1beca4d13f83ca89c66bd45495ae156699bc5ff6f8c7e501c023379b2af8736"
  },
  "kernelspec": {
   "display_name": "Python 3.9.12 ('base')",
   "language": "python",
   "name": "python3"
  },
  "language_info": {
   "codemirror_mode": {
    "name": "ipython",
    "version": 3
   },
   "file_extension": ".py",
   "mimetype": "text/x-python",
   "name": "python",
   "nbconvert_exporter": "python",
   "pygments_lexer": "ipython3",
   "version": "3.9.12"
  },
  "orig_nbformat": 4
 },
 "nbformat": 4,
 "nbformat_minor": 2
}
